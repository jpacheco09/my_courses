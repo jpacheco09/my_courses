{
 "cells": [
  {
   "cell_type": "code",
   "execution_count": 2,
   "id": "f49b4c8f-ab3d-4145-bd20-b7e9ae565847",
   "metadata": {},
   "outputs": [],
   "source": [
    "import numpy as np"
   ]
  },
  {
   "cell_type": "code",
   "execution_count": 45,
   "id": "6264c699-beb8-444c-81c6-5f257c98f38e",
   "metadata": {},
   "outputs": [],
   "source": [
    "B_new = np.matrix(np.zeros([3, 1]))"
   ]
  },
  {
   "cell_type": "code",
   "execution_count": 5,
   "id": "de07d1ee-f2af-48cb-a182-f3064cee7674",
   "metadata": {},
   "outputs": [],
   "source": [
    "def class_gen(samples=100):\n",
    "    mu_1 = np.array([4, 4])\n",
    "    mu_2 = np.array([-4, -4])\n",
    "    sigma = np.eye(2, 2)\n",
    "    class1 = np.random.multivariate_normal(mu_1, sigma, samples)\n",
    "    class2 = np.random.multivariate_normal(mu_2, sigma, samples)\n",
    "    return class1, class2"
   ]
  },
  {
   "cell_type": "code",
   "execution_count": 6,
   "id": "23f0467e-976a-4bc7-91c8-bc01799c0fc2",
   "metadata": {},
   "outputs": [],
   "source": [
    "class1, class2 = class_gen()"
   ]
  },
  {
   "cell_type": "code",
   "execution_count": 8,
   "id": "81830a11-b10d-4959-acba-ec8179f083d1",
   "metadata": {},
   "outputs": [],
   "source": [
    "X = np.vstack([class1, class2])"
   ]
  },
  {
   "cell_type": "code",
   "execution_count": 9,
   "id": "3a90cdbe-cbca-4e61-a108-41de9dd436a2",
   "metadata": {},
   "outputs": [
    {
     "data": {
      "text/plain": [
       "(200, 2)"
      ]
     },
     "execution_count": 9,
     "metadata": {},
     "output_type": "execute_result"
    }
   ],
   "source": [
    "X.shape"
   ]
  },
  {
   "cell_type": "code",
   "execution_count": 11,
   "id": "1ddc1776-fcaf-4ff9-b382-f32a7f2788c3",
   "metadata": {},
   "outputs": [],
   "source": [
    "X = np.hstack([X, np.ones((200, 1))])"
   ]
  },
  {
   "cell_type": "code",
   "execution_count": 13,
   "id": "bd53abe1-789f-478e-854e-ca4da3e828f9",
   "metadata": {},
   "outputs": [
    {
     "data": {
      "text/plain": [
       "(200, 3)"
      ]
     },
     "execution_count": 13,
     "metadata": {},
     "output_type": "execute_result"
    }
   ],
   "source": [
    "X.shape"
   ]
  },
  {
   "cell_type": "code",
   "execution_count": 48,
   "id": "fe7f8424-927d-4b29-ae8e-78a3e82a7ba0",
   "metadata": {},
   "outputs": [],
   "source": [
    "p_x_B = np.multiply(np.exp(X*B_new), 1.0/(1.0+np.exp(X*B_new)))"
   ]
  },
  {
   "cell_type": "code",
   "execution_count": 49,
   "id": "1f69d49f-9232-4249-b297-f99b334b4d0b",
   "metadata": {},
   "outputs": [],
   "source": [
    "p_1_x_B = 1.0 - p_x_B"
   ]
  },
  {
   "cell_type": "code",
   "execution_count": 50,
   "id": "d42a4156-46ea-4b17-9f29-ff894a465508",
   "metadata": {},
   "outputs": [],
   "source": [
    "MainDiag = np.array(np.multiply(p_x_B, p_1_x_B))"
   ]
  },
  {
   "cell_type": "code",
   "execution_count": 51,
   "id": "374afd65-2a4c-4b32-a2a9-6881ae4c9d11",
   "metadata": {},
   "outputs": [],
   "source": [
    "MainDiag = [i[0] for i in MainDiag]"
   ]
  },
  {
   "cell_type": "code",
   "execution_count": 52,
   "id": "99f8c7e3-2ef1-4d14-b388-d977d7b7bea4",
   "metadata": {},
   "outputs": [],
   "source": [
    "W = np.diag(MainDiag)"
   ]
  },
  {
   "cell_type": "code",
   "execution_count": 53,
   "id": "5492d658-6380-4f09-8ebb-35745c1c5a98",
   "metadata": {},
   "outputs": [
    {
     "data": {
      "text/plain": [
       "array([[0.25, 0.  , 0.  , ..., 0.  , 0.  , 0.  ],\n",
       "       [0.  , 0.25, 0.  , ..., 0.  , 0.  , 0.  ],\n",
       "       [0.  , 0.  , 0.25, ..., 0.  , 0.  , 0.  ],\n",
       "       ...,\n",
       "       [0.  , 0.  , 0.  , ..., 0.25, 0.  , 0.  ],\n",
       "       [0.  , 0.  , 0.  , ..., 0.  , 0.25, 0.  ],\n",
       "       [0.  , 0.  , 0.  , ..., 0.  , 0.  , 0.25]])"
      ]
     },
     "execution_count": 53,
     "metadata": {},
     "output_type": "execute_result"
    }
   ],
   "source": [
    "W"
   ]
  },
  {
   "cell_type": "code",
   "execution_count": 54,
   "id": "0888a664-1b22-4f7e-b3d2-1bc3ba77fc37",
   "metadata": {},
   "outputs": [],
   "source": [
    "def Gradient_Logistic_Regression(X, Y, p_x_B):\n",
    "    \"\"\"\n",
    "    The Logistic Regression Gradient of the likelihhod sum(log p_i). \n",
    "    \"\"\"\n",
    "    return X.T@(Y-p_x_B)\n",
    "\n",
    "\n",
    "def Hessian_Inverse_Losgistic(X, Y, W):\n",
    "    \"\"\"\n",
    "    The invers of the Logistic Regression Gradient of the likelihhod \n",
    "    sum(log p_i).\n",
    "    \"\"\"\n",
    "    return np.linalg.inv(-X.T@W@X)"
   ]
  },
  {
   "cell_type": "code",
   "execution_count": 55,
   "id": "f80fd675-a913-4b59-972d-1be226c593b8",
   "metadata": {},
   "outputs": [],
   "source": [
    "Y = np.vstack([np.ones((100, 1)), np.zeros((100, 1))])"
   ]
  },
  {
   "cell_type": "code",
   "execution_count": 56,
   "id": "aa3acf8f-a67b-45a8-807f-05b4be010cdb",
   "metadata": {},
   "outputs": [],
   "source": [
    "Gradient_B = Gradient_Logistic_Regression(X, Y, p_x_B)"
   ]
  },
  {
   "cell_type": "code",
   "execution_count": 57,
   "id": "9eb94463-a2b8-4294-83dc-a591c0565356",
   "metadata": {},
   "outputs": [
    {
     "data": {
      "text/plain": [
       "matrix([[400.16820313],\n",
       "        [394.30977363],\n",
       "        [  0.        ]])"
      ]
     },
     "execution_count": 57,
     "metadata": {},
     "output_type": "execute_result"
    }
   ],
   "source": [
    "Gradient_B"
   ]
  },
  {
   "cell_type": "code",
   "execution_count": 58,
   "id": "ded2fbc5-372d-4750-b3fd-526a5958f475",
   "metadata": {},
   "outputs": [
    {
     "data": {
      "text/plain": [
       "matrix([[400.16820313],\n",
       "        [394.30977363],\n",
       "        [  0.        ]])"
      ]
     },
     "execution_count": 58,
     "metadata": {},
     "output_type": "execute_result"
    }
   ],
   "source": [
    "Gradient_B"
   ]
  },
  {
   "cell_type": "code",
   "execution_count": 59,
   "id": "63ac501d-35a3-424a-9494-76a40079156c",
   "metadata": {},
   "outputs": [],
   "source": [
    "Hessian_B_inv = Hessian_Inverse_Losgistic(X, Y, W)"
   ]
  },
  {
   "cell_type": "code",
   "execution_count": 60,
   "id": "13ed2ea5-2178-47d9-861d-3fb1c0f20024",
   "metadata": {},
   "outputs": [
    {
     "data": {
      "text/plain": [
       "array([[-0.00929428,  0.00877213, -0.00036734],\n",
       "       [ 0.00877213, -0.00947139,  0.00037955],\n",
       "       [-0.00036734,  0.00037955, -0.02001542]])"
      ]
     },
     "execution_count": 60,
     "metadata": {},
     "output_type": "execute_result"
    }
   ],
   "source": [
    "Hessian_B_inv"
   ]
  },
  {
   "cell_type": "code",
   "execution_count": 61,
   "id": "a6137e2e-dda7-4037-b987-38734f3a8968",
   "metadata": {},
   "outputs": [],
   "source": [
    "B_old = np.copy(B_new)\n",
    "alpha = 1\n",
    "B_new = B_old + alpha*Hessian_B_inv*Gradient_B\n",
    "alpha /=2"
   ]
  },
  {
   "cell_type": "code",
   "execution_count": 62,
   "id": "ab715f54-067d-449c-be37-beb06f3ceeea",
   "metadata": {},
   "outputs": [
    {
     "data": {
      "text/plain": [
       "array([[0.],\n",
       "       [0.],\n",
       "       [0.]])"
      ]
     },
     "execution_count": 62,
     "metadata": {},
     "output_type": "execute_result"
    }
   ],
   "source": [
    "B_old"
   ]
  },
  {
   "cell_type": "code",
   "execution_count": 63,
   "id": "8f74d36f-adf9-4449-88a4-dd5fd67affc3",
   "metadata": {},
   "outputs": [
    {
     "data": {
      "text/plain": [
       "matrix([[-0.26034131],\n",
       "        [-0.22433362],\n",
       "        [ 0.00265981]])"
      ]
     },
     "execution_count": 63,
     "metadata": {},
     "output_type": "execute_result"
    }
   ],
   "source": [
    "B_new"
   ]
  },
  {
   "cell_type": "code",
   "execution_count": null,
   "id": "041ac9cb-003e-4757-bc76-1de9b2697f6d",
   "metadata": {},
   "outputs": [],
   "source": []
  }
 ],
 "metadata": {
  "kernelspec": {
   "display_name": "Python 3 (ipykernel)",
   "language": "python",
   "name": "python3"
  },
  "language_info": {
   "codemirror_mode": {
    "name": "ipython",
    "version": 3
   },
   "file_extension": ".py",
   "mimetype": "text/x-python",
   "name": "python",
   "nbconvert_exporter": "python",
   "pygments_lexer": "ipython3",
   "version": "3.8.8"
  }
 },
 "nbformat": 4,
 "nbformat_minor": 5
}
