{
 "cells": [
  {
   "cell_type": "markdown",
   "id": "35b176d9-12bc-4249-9fea-ad9577fe1a2c",
   "metadata": {},
   "source": [
    "# Logistic Regression\n",
    "Implmentation of the Logistic Discriminant for two classes. \n",
    "        \n",
    "This implements the classic Raphson Method because the log-likelihood\n",
    "        derivative gives an equuation where is necessary to look for the zeros \n",
    "        of it.\n",
    "        \n",
    "Input:\n",
    "\n",
    "    X, Y\n",
    "\n",
    "Output :\n",
    "\n",
    "    1.- A Vector B of Weights for the Logistic machines\n",
    "    2.- The Classification L of each sample to one of the classes \n",
    "            \n",
    "It is possible to extend to K classes usign a linear machine "
   ]
  },
  {
   "cell_type": "markdown",
   "id": "46014399-7ac7-4ab1-a494-3ff5bd770327",
   "metadata": {},
   "source": [
    "# One Hot encodings"
   ]
  },
  {
   "cell_type": "code",
   "execution_count": 1,
   "id": "ca4973a1-caa6-40d2-b2c3-a505a8a5e3c4",
   "metadata": {},
   "outputs": [],
   "source": [
    "import numpy as np\n",
    "x = np.zeros(10)"
   ]
  },
  {
   "cell_type": "code",
   "execution_count": 2,
   "id": "35f10cde-a3f5-4f3c-be7c-d4703dff2087",
   "metadata": {},
   "outputs": [],
   "source": [
    "x[5] = 1"
   ]
  },
  {
   "cell_type": "code",
   "execution_count": 3,
   "id": "16f373df-d7db-48c6-be87-c4654558edf6",
   "metadata": {},
   "outputs": [
    {
     "data": {
      "text/plain": [
       "array([0., 0., 0., 0., 0., 1., 0., 0., 0., 0.])"
      ]
     },
     "execution_count": 3,
     "metadata": {},
     "output_type": "execute_result"
    }
   ],
   "source": [
    "x"
   ]
  },
  {
   "cell_type": "code",
   "execution_count": 4,
   "id": "c85fa06e-b746-4c46-96fb-400578648c9f",
   "metadata": {},
   "outputs": [],
   "source": [
    "import numpy as np\n",
    "\n",
    "\n",
    "def Logistic_Discriminant(X, Y, terror,\n",
    "                          alpha=0.1,\n",
    "                          epsilon1=0.001,\n",
    "                          l=0.00001):\n",
    "\n",
    "    N, d = X.shape\n",
    "\n",
    "    # Here the initial random weights\n",
    "    B_new = np.matrix(np.zeros([d, 1]))\n",
    "\n",
    "    # Main Training Loop\n",
    "    alpha = 0.1\n",
    "    while True:\n",
    "\n",
    "        # This elements are arrays be careful\n",
    "        # There is a difference\n",
    "        # 1.- As matrix elements * is matrix mult\n",
    "        # 2.- As array * is element wise mult\n",
    "        p_x_B  = Class1_Probability(X, B_new)\n",
    "        p_1_x_B = 1.0 - p_x_B\n",
    "\n",
    "        # Array element wise multiplication for the\n",
    "        # Element W in the Hessian\n",
    "        MainDiag = np.array(np.multiply(p_x_B, p_1_x_B))\n",
    "\n",
    "        # Convert it into a list\n",
    "        MainDiag = [i[0] for i in MainDiag]\n",
    "\n",
    "        # The W Diagonal matrix in the Hessian\n",
    "        W = np.diag(MainDiag)\n",
    "\n",
    "        # The necessary Elements for the Newton-Raphson Method\n",
    "        Gradient_B = Gradient_Logistic_Regression(X, Y, p_x_B)\n",
    "        Hessian_B_inv = Hessian_Inverse_Losgistic(X, Y, W)\n",
    "\n",
    "        # Remember the Old Values\n",
    "        B_old = np.copy(B_new)\n",
    "\n",
    "        B_new = B_old + alpha*Hessian_B_inv*Gradient_B\n",
    "        alpha /=2\n",
    "\n",
    "        if (np.sqrt((B_new-B_old).T@(B_new-B_old))<terror):\n",
    "            print(\"getting out \")\n",
    "            break\n",
    "\n",
    "    L1 = np.exp(X*B_new)/(1.0+np.exp(X*B_new))\n",
    "    L2 = 1.0/(1.0+np.exp(X*B_new))\n",
    "\n",
    "    L = np.concatenate((L1, L2), axis=1)\n",
    "\n",
    "    return X, B_new, L\n",
    "\n",
    "\n",
    "def Gradient_Logistic_Regression(X, Y, p_x_B):\n",
    "    \"\"\"\n",
    "    The Logistic Regression Gradient of the likelihhod sum(log p_i). \n",
    "    \"\"\"\n",
    "    return X.T@(Y-p_x_B)\n",
    "\n",
    "\n",
    "def Hessian_Inverse_Losgistic(X, Y, W):\n",
    "    \"\"\"\n",
    "    The invers of the Logistic Regression Gradient of the likelihhod \n",
    "    sum(log p_i).\n",
    "    \"\"\"\n",
    "    return np.linalg.inv(-X.T@W@X)\n",
    "\n",
    "\n",
    "def Class1_Probability(X, B):\n",
    "    \"\"\"\n",
    "    Here you calculate the sigmoidal probabilitiesa of B.\n",
    "    \"\"\"\n",
    "    return np.multiply(np.exp(X@B), 1.0/(1.0+np.exp(X@B)))"
   ]
  },
  {
   "cell_type": "code",
   "execution_count": 5,
   "id": "b5ef627b-225e-4fac-990c-60e4db56fdf1",
   "metadata": {},
   "outputs": [],
   "source": [
    "def class_gen(samples=100):\n",
    "    mu_1 = np.array([4, 4])\n",
    "    mu_2 = np.array([-4, -4])\n",
    "    sigma = 0.05*np.eye(2, 2)\n",
    "    class1 = np.random.multivariate_normal(mu_1, sigma, samples)\n",
    "    class2 = np.random.multivariate_normal(mu_2, sigma, samples)\n",
    "    return class1, class2"
   ]
  },
  {
   "cell_type": "code",
   "execution_count": 6,
   "id": "714ac247-5b48-439a-ac41-7c5bf332efcf",
   "metadata": {},
   "outputs": [],
   "source": [
    "class1, class2 = class_gen()"
   ]
  },
  {
   "cell_type": "code",
   "execution_count": 7,
   "id": "a000cf58-ad01-439d-ac86-37999f2cb35b",
   "metadata": {},
   "outputs": [],
   "source": [
    "X = np.vstack([class1, class2])"
   ]
  },
  {
   "cell_type": "code",
   "execution_count": 8,
   "id": "4ac981d0-02cc-4e80-b887-7e126b86d628",
   "metadata": {},
   "outputs": [],
   "source": [
    "X = np.hstack([X, np.ones((200, 1))])"
   ]
  },
  {
   "cell_type": "code",
   "execution_count": 9,
   "id": "cf52cb25-0ba1-46f8-b636-7b11bf590e85",
   "metadata": {},
   "outputs": [],
   "source": [
    "Y = np.vstack([np.zeros((100, 1)), np.ones((100, 1))])"
   ]
  },
  {
   "cell_type": "code",
   "execution_count": 10,
   "id": "a68c50c0-0724-486d-b716-e5ed0ca31d2a",
   "metadata": {},
   "outputs": [],
   "source": [
    "terror = 0.00000000002"
   ]
  },
  {
   "cell_type": "code",
   "execution_count": 11,
   "id": "dcaf7368-349a-4b06-8ed9-709e503dfb33",
   "metadata": {},
   "outputs": [
    {
     "name": "stdout",
     "output_type": "stream",
     "text": [
      "getting out \n"
     ]
    }
   ],
   "source": [
    "X, B_new, L = Logistic_Discriminant(X, Y, terror)"
   ]
  },
  {
   "cell_type": "code",
   "execution_count": 18,
   "id": "dffd5eb8-3d3b-42fd-a446-e42c9b1d198f",
   "metadata": {},
   "outputs": [],
   "source": [
    "T= (L[:,0]<L[:,1]).astype(int)"
   ]
  },
  {
   "cell_type": "code",
   "execution_count": 13,
   "id": "72cbc76a-db1a-4ba2-b478-f28234e15519",
   "metadata": {},
   "outputs": [
    {
     "data": {
      "text/plain": [
       "1.0"
      ]
     },
     "execution_count": 13,
     "metadata": {},
     "output_type": "execute_result"
    }
   ],
   "source": [
    "0.60138639 + 0.39861361"
   ]
  },
  {
   "cell_type": "code",
   "execution_count": 19,
   "id": "6c75a2e1-6b93-499a-a673-6ae5c531ff64",
   "metadata": {},
   "outputs": [
    {
     "data": {
      "text/plain": [
       "matrix([[ True],\n",
       "        [ True],\n",
       "        [ True],\n",
       "        [ True],\n",
       "        [ True],\n",
       "        [ True],\n",
       "        [ True],\n",
       "        [ True],\n",
       "        [ True],\n",
       "        [ True],\n",
       "        [ True],\n",
       "        [ True],\n",
       "        [ True],\n",
       "        [ True],\n",
       "        [ True],\n",
       "        [ True],\n",
       "        [ True],\n",
       "        [ True],\n",
       "        [ True],\n",
       "        [ True],\n",
       "        [ True],\n",
       "        [ True],\n",
       "        [ True],\n",
       "        [ True],\n",
       "        [ True],\n",
       "        [ True],\n",
       "        [ True],\n",
       "        [ True],\n",
       "        [ True],\n",
       "        [ True],\n",
       "        [ True],\n",
       "        [ True],\n",
       "        [ True],\n",
       "        [ True],\n",
       "        [ True],\n",
       "        [ True],\n",
       "        [ True],\n",
       "        [ True],\n",
       "        [ True],\n",
       "        [ True],\n",
       "        [ True],\n",
       "        [ True],\n",
       "        [ True],\n",
       "        [ True],\n",
       "        [ True],\n",
       "        [ True],\n",
       "        [ True],\n",
       "        [ True],\n",
       "        [ True],\n",
       "        [ True],\n",
       "        [ True],\n",
       "        [ True],\n",
       "        [ True],\n",
       "        [ True],\n",
       "        [ True],\n",
       "        [ True],\n",
       "        [ True],\n",
       "        [ True],\n",
       "        [ True],\n",
       "        [ True],\n",
       "        [ True],\n",
       "        [ True],\n",
       "        [ True],\n",
       "        [ True],\n",
       "        [ True],\n",
       "        [ True],\n",
       "        [ True],\n",
       "        [ True],\n",
       "        [ True],\n",
       "        [ True],\n",
       "        [ True],\n",
       "        [ True],\n",
       "        [ True],\n",
       "        [ True],\n",
       "        [ True],\n",
       "        [ True],\n",
       "        [ True],\n",
       "        [ True],\n",
       "        [ True],\n",
       "        [ True],\n",
       "        [ True],\n",
       "        [ True],\n",
       "        [ True],\n",
       "        [ True],\n",
       "        [ True],\n",
       "        [ True],\n",
       "        [ True],\n",
       "        [ True],\n",
       "        [ True],\n",
       "        [ True],\n",
       "        [ True],\n",
       "        [ True],\n",
       "        [ True],\n",
       "        [ True],\n",
       "        [ True],\n",
       "        [ True],\n",
       "        [ True],\n",
       "        [ True],\n",
       "        [ True],\n",
       "        [ True],\n",
       "        [ True],\n",
       "        [ True],\n",
       "        [ True],\n",
       "        [ True],\n",
       "        [ True],\n",
       "        [ True],\n",
       "        [ True],\n",
       "        [ True],\n",
       "        [ True],\n",
       "        [ True],\n",
       "        [ True],\n",
       "        [ True],\n",
       "        [ True],\n",
       "        [ True],\n",
       "        [ True],\n",
       "        [ True],\n",
       "        [ True],\n",
       "        [ True],\n",
       "        [ True],\n",
       "        [ True],\n",
       "        [ True],\n",
       "        [ True],\n",
       "        [ True],\n",
       "        [ True],\n",
       "        [ True],\n",
       "        [ True],\n",
       "        [ True],\n",
       "        [ True],\n",
       "        [ True],\n",
       "        [ True],\n",
       "        [ True],\n",
       "        [ True],\n",
       "        [ True],\n",
       "        [ True],\n",
       "        [ True],\n",
       "        [ True],\n",
       "        [ True],\n",
       "        [ True],\n",
       "        [ True],\n",
       "        [ True],\n",
       "        [ True],\n",
       "        [ True],\n",
       "        [ True],\n",
       "        [ True],\n",
       "        [ True],\n",
       "        [ True],\n",
       "        [ True],\n",
       "        [ True],\n",
       "        [ True],\n",
       "        [ True],\n",
       "        [ True],\n",
       "        [ True],\n",
       "        [ True],\n",
       "        [ True],\n",
       "        [ True],\n",
       "        [ True],\n",
       "        [ True],\n",
       "        [ True],\n",
       "        [ True],\n",
       "        [ True],\n",
       "        [ True],\n",
       "        [ True],\n",
       "        [ True],\n",
       "        [ True],\n",
       "        [ True],\n",
       "        [ True],\n",
       "        [ True],\n",
       "        [ True],\n",
       "        [ True],\n",
       "        [ True],\n",
       "        [ True],\n",
       "        [ True],\n",
       "        [ True],\n",
       "        [ True],\n",
       "        [ True],\n",
       "        [ True],\n",
       "        [ True],\n",
       "        [ True],\n",
       "        [ True],\n",
       "        [ True],\n",
       "        [ True],\n",
       "        [ True],\n",
       "        [ True],\n",
       "        [ True],\n",
       "        [ True],\n",
       "        [ True],\n",
       "        [ True],\n",
       "        [ True],\n",
       "        [ True],\n",
       "        [ True],\n",
       "        [ True],\n",
       "        [ True],\n",
       "        [ True],\n",
       "        [ True],\n",
       "        [ True],\n",
       "        [ True],\n",
       "        [ True],\n",
       "        [ True],\n",
       "        [ True],\n",
       "        [ True]])"
      ]
     },
     "execution_count": 19,
     "metadata": {},
     "output_type": "execute_result"
    }
   ],
   "source": [
    "T == Y"
   ]
  },
  {
   "cell_type": "code",
   "execution_count": null,
   "id": "b01e7583-23f5-4d6a-b6c1-8b6beff1dfee",
   "metadata": {},
   "outputs": [],
   "source": []
  }
 ],
 "metadata": {
  "kernelspec": {
   "display_name": "Python 3 (ipykernel)",
   "language": "python",
   "name": "python3"
  },
  "language_info": {
   "codemirror_mode": {
    "name": "ipython",
    "version": 3
   },
   "file_extension": ".py",
   "mimetype": "text/x-python",
   "name": "python",
   "nbconvert_exporter": "python",
   "pygments_lexer": "ipython3",
   "version": "3.8.8"
  }
 },
 "nbformat": 4,
 "nbformat_minor": 5
}
