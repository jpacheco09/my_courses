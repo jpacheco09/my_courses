{
 "cells": [
  {
   "cell_type": "code",
   "execution_count": 1,
   "metadata": {},
   "outputs": [],
   "source": [
    "import numpy as np"
   ]
  },
  {
   "cell_type": "markdown",
   "metadata": {},
   "source": [
    "### One Hot encodings"
   ]
  },
  {
   "cell_type": "code",
   "execution_count": 2,
   "metadata": {},
   "outputs": [
    {
     "data": {
      "text/plain": [
       "array([0., 0., 0., 0., 0., 1., 0., 0., 0., 0.])"
      ]
     },
     "execution_count": 2,
     "metadata": {},
     "output_type": "execute_result"
    }
   ],
   "source": [
    "x = np.zeros(10)\n",
    "x[5] = 1\n",
    "x"
   ]
  },
  {
   "cell_type": "markdown",
   "metadata": {},
   "source": [
    "cons"
   ]
  },
  {
   "cell_type": "code",
   "execution_count": null,
   "metadata": {},
   "outputs": [],
   "source": [
    "def classGeneration(nSamples=100):\n",
    "    mu_1 = np.array([4,4])\n",
    "    mu_2 = np.array([-4, -4])\n",
    "    sigma = np.eye([2,2])\n",
    "    sigma = np.eye(2,2)\n",
    "    class1 = np.random.multivariate_normal(mu_1 sigma, nSamples)\n",
    "    class2 = np.random.multivariate_normal(mu_2 sigma, nSamples)\n",
    "    \n",
    "    \n",
    "def LogisticDiscriminant(X, Y, terror, alpha = 1e-3, epsilon1 = 1e-2, l = 1e-5):\n",
    "    N, d = X.shape()\n",
    "    # set initial random weights\n",
    "    B_new = np.matrix(np.zeros([d,1]))\n",
    "    \n",
    "    #main training loop\n",
    "    alpha = 0.1\n",
    "    \n",
    "    while True:\n",
    "        p_x_B = class1_probability()\n",
    "        \n",
    "    "
   ]
  }
 ],
 "metadata": {
  "kernelspec": {
   "display_name": ".intro_to_ml",
   "language": "python",
   "name": "python3"
  },
  "language_info": {
   "codemirror_mode": {
    "name": "ipython",
    "version": 3
   },
   "file_extension": ".py",
   "mimetype": "text/x-python",
   "name": "python",
   "nbconvert_exporter": "python",
   "pygments_lexer": "ipython3",
   "version": "3.11.5"
  },
  "orig_nbformat": 4
 },
 "nbformat": 4,
 "nbformat_minor": 2
}
