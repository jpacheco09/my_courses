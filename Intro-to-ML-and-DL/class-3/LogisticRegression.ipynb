{
 "cells": [
  {
   "cell_type": "code",
   "execution_count": 1,
   "metadata": {},
   "outputs": [],
   "source": [
    "import numpy as np"
   ]
  },
  {
   "cell_type": "markdown",
   "metadata": {},
   "source": [
    "### One Hot encodings"
   ]
  },
  {
   "cell_type": "code",
   "execution_count": 2,
   "metadata": {},
   "outputs": [
    {
     "data": {
      "text/plain": [
       "array([0., 0., 0., 0., 0., 1., 0., 0., 0., 0.])"
      ]
     },
     "execution_count": 2,
     "metadata": {},
     "output_type": "execute_result"
    }
   ],
   "source": [
    "x = np.zeros(10)\n",
    "x[5] = 1\n",
    "x"
   ]
  },
  {
   "cell_type": "markdown",
   "metadata": {},
   "source": [
    "cons"
   ]
  },
  {
   "cell_type": "code",
   "execution_count": null,
   "metadata": {},
   "outputs": [],
   "source": [
    "def classGeneration(nSamples=100):\n",
    "    mu_1 = np.array([4,4])\n",
    "    mu_2 = np.array([-4, -4])\n",
    "    sigma = np.eye([2,2])\n",
    "    sigma = np.eye(2,2)\n",
    "    class1 = np.random.multivariate_normal(mu_1 sigma, nSamples)\n",
    "    class2 = np.random.multivariate_normal(mu_2 sigma, nSamples)\n",
    "    \n",
    "    \n",
    "def LogisticDiscriminant(X, Y, terror, alpha = 1e-3, epsilon1 = 1e-2, l = 1e-5):\n",
    "    N, d = X.shape()\n",
    "    # set initial random weights\n",
    "    B_new = np.matrix(np.zeros([d,1]))\n",
    "    \n",
    "    #main training loop\n",
    "    alpha = 0.1\n",
    "    \n",
    "    while True:\n",
    "        # get the \n",
    "        p_x_B = ClassLogitProbability(X, B_new)\n",
    "        p1_x_B = 1.0 - p_x_B\n",
    "        \n",
    "        main_diag = np.array(np.multiply(p_x_B, p1_x_B))\n",
    "        \n",
    "        np.shape(main_diag)\n",
    "        \n"
   ]
  },
  {
   "cell_type": "markdown",
   "metadata": {},
   "source": [
    "Let us define a function to obtain the sigmoidal function of a given random variable using the _Logit Distribution_:\n",
    "\\begin{equation}\n",
    "    p\\left(\\rm{X}=\\bm{x}^{(i)} \\ ; \\bm{w}, \\ s \\right) = \\frac{\\exp\\left[ \\bm{w}^\\intercal \\bm{x}^{(i)} \\right]}{1+\\exp\\left[ \\bm{w}^\\intercal \\bm{x}^{(i)} \\right]}\n",
    "\\end{equation}\n",
    "\n",
    "where $\\bm{x}^{(i)}\\in \\Reals^d $ is the new observation/input feature (i=1,\\cdots, n), and $\\bm{w}\\in\\Reals^{d}$ is the well-known _weight vector_.\n",
    "\n",
    "Recall, we are using the projection of $\\bm{x}^{(i)}$ onto the hyperplane defined by the normal vector $\\bm{\\hat{w}} = \\bm{w}/\\|\\bm{w}\\|$ (sorry Dr. Anand) to predict a label, then the above equation stands for the logistic distribution $p\\left(z= \\bm{w}^{\\intercal}\\bm{x}^{(i)}; \\alpha=0, \\beta=1,s=1\\right)$"
   ]
  },
  {
   "cell_type": "code",
   "execution_count": null,
   "metadata": {},
   "outputs": [],
   "source": [
    "def classLogicProbability(X, B):\n",
    "    \"\"\"\"\n",
    "    The sigmoidal probabilities of B are calculated\n",
    "    \"\"\" \n",
    "    return np.multiply(np.exp(X@B), 1.0/(1.0+np.exp(X@B)))"
   ]
  }
 ],
 "metadata": {
  "kernelspec": {
   "display_name": ".intro_to_ml",
   "language": "python",
   "name": "python3"
  },
  "language_info": {
   "codemirror_mode": {
    "name": "ipython",
    "version": 3
   },
   "file_extension": ".py",
   "mimetype": "text/x-python",
   "name": "python",
   "nbconvert_exporter": "python",
   "pygments_lexer": "ipython3",
   "version": "3.11.5"
  },
  "orig_nbformat": 4
 },
 "nbformat": 4,
 "nbformat_minor": 2
}
